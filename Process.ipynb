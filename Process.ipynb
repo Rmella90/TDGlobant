{
 "cells": [
  {
   "cell_type": "code",
   "execution_count": 3,
   "metadata": {},
   "outputs": [
    {
     "name": "stdout",
     "output_type": "stream",
     "text": [
      "Collecting requests\n",
      "  Obtaining dependency information for requests from https://files.pythonhosted.org/packages/70/8e/0e2d847013cb52cd35b38c009bb167a1a26b2ce6cd6965bf26b47bc0bf44/requests-2.31.0-py3-none-any.whl.metadata\n",
      "  Downloading requests-2.31.0-py3-none-any.whl.metadata (4.6 kB)\n",
      "Collecting charset-normalizer<4,>=2 (from requests)\n",
      "  Obtaining dependency information for charset-normalizer<4,>=2 from https://files.pythonhosted.org/packages/92/5e/50028bbb269986d9bc30270cd46b47ea44a1ca0b3f8da3a8429680d37050/charset_normalizer-3.3.0-cp311-cp311-win_amd64.whl.metadata\n",
      "  Downloading charset_normalizer-3.3.0-cp311-cp311-win_amd64.whl.metadata (33 kB)\n",
      "Collecting idna<4,>=2.5 (from requests)\n",
      "  Downloading idna-3.4-py3-none-any.whl (61 kB)\n",
      "     ---------------------------------------- 0.0/61.5 kB ? eta -:--:--\n",
      "     ---------------------------------------  61.4/61.5 kB 3.2 MB/s eta 0:00:01\n",
      "     ---------------------------------------- 61.5/61.5 kB 1.7 MB/s eta 0:00:00\n",
      "Collecting urllib3<3,>=1.21.1 (from requests)\n",
      "  Obtaining dependency information for urllib3<3,>=1.21.1 from https://files.pythonhosted.org/packages/26/40/9957270221b6d3e9a3b92fdfba80dd5c9661ff45a664b47edd5d00f707f5/urllib3-2.0.6-py3-none-any.whl.metadata\n",
      "  Downloading urllib3-2.0.6-py3-none-any.whl.metadata (6.6 kB)\n",
      "Collecting certifi>=2017.4.17 (from requests)\n",
      "  Obtaining dependency information for certifi>=2017.4.17 from https://files.pythonhosted.org/packages/4c/dd/2234eab22353ffc7d94e8d13177aaa050113286e93e7b40eae01fbf7c3d9/certifi-2023.7.22-py3-none-any.whl.metadata\n",
      "  Downloading certifi-2023.7.22-py3-none-any.whl.metadata (2.2 kB)\n",
      "Downloading requests-2.31.0-py3-none-any.whl (62 kB)\n",
      "   ---------------------------------------- 0.0/62.6 kB ? eta -:--:--\n",
      "   ---------------------------------------- 62.6/62.6 kB 3.3 MB/s eta 0:00:00\n",
      "Downloading certifi-2023.7.22-py3-none-any.whl (158 kB)\n",
      "   ---------------------------------------- 0.0/158.3 kB ? eta -:--:--\n",
      "   ---------------------------------------- 158.3/158.3 kB 9.3 MB/s eta 0:00:00\n",
      "Downloading charset_normalizer-3.3.0-cp311-cp311-win_amd64.whl (97 kB)\n",
      "   ---------------------------------------- 0.0/97.8 kB ? eta -:--:--\n",
      "   ---------------------------------------- 97.8/97.8 kB ? eta 0:00:00\n",
      "Downloading urllib3-2.0.6-py3-none-any.whl (123 kB)\n",
      "   ---------------------------------------- 0.0/123.8 kB ? eta -:--:--\n",
      "   ---------------------------------------- 123.8/123.8 kB ? eta 0:00:00\n",
      "Installing collected packages: urllib3, idna, charset-normalizer, certifi, requests\n",
      "Successfully installed certifi-2023.7.22 charset-normalizer-3.3.0 idna-3.4 requests-2.31.0 urllib3-2.0.6\n"
     ]
    }
   ],
   "source": [
    "!pip install requests"
   ]
  },
  {
   "cell_type": "code",
   "execution_count": 18,
   "metadata": {},
   "outputs": [
    {
     "name": "stdout",
     "output_type": "stream",
     "text": [
      "The file videogame.csv has been successfully downloaded.\n",
      "                           Nombre  3DS   PC  PS3  PSP  PSV X360  PS4  XOne  \\\n",
      "0                          ZombiU  NaN  NaN  NaN  NaN  NaN  NaN  PS4   NaN   \n",
      "1             Zombie Army Trilogy  NaN  NaN  NaN  NaN  NaN  NaN  PS4   NaN   \n",
      "2             Zombie Army Trilogy  NaN  NaN  NaN  NaN  NaN  NaN  NaN  XOne   \n",
      "3  Zero Escape: Zero Time Dilemma  3DS  NaN  NaN  NaN  NaN  NaN  NaN   NaN   \n",
      "4  Zero Escape: Zero Time Dilemma  NaN  NaN  NaN  NaN  PSV  NaN  NaN   NaN   \n",
      "\n",
      "    Año                Genero-Editorial  Unnamed2 Ventas NA Ventas EU  \\\n",
      "0  2016                  Action-Ubisoft       NaN         0      0,04   \n",
      "1  2015  Shooter-Rebellion Developments       NaN      0,04      0,12   \n",
      "2  2015  Shooter-Rebellion Developments       NaN      0,04      0,05   \n",
      "3  2016           Adventure-Aksys Games       NaN      0,04         0   \n",
      "4  2016           Adventure-Aksys Games       NaN      0,03         0   \n",
      "\n",
      "  Ventas JP Ventas Otros Ventas Global  \n",
      "0      0,01         0,01          0,05  \n",
      "1         0         0,03           0,2  \n",
      "2         0         0,01           0,1  \n",
      "3      0,01         0,01          0,06  \n",
      "4      0,02         0,01          0,06  \n"
     ]
    }
   ],
   "source": [
    "import pandas as pd\n",
    "import requests\n",
    "\n",
    "url = \"https://drive.google.com/uc?id=1nfktbI7ucHOUwO6EHD2pPHvOf1hN9nmZ\"\n",
    "\n",
    "destination_file = \"videogame.csv\"\n",
    "response = requests.get(url)\n",
    "\n",
    "if response.status_code == 200:\n",
    "    # Save the content of the file to a local file\n",
    "    with open(destination_file, \"wb\") as file:\n",
    "        file.write(response.content)\n",
    "    print(f\"The file {destination_file} has been successfully downloaded.\")\n",
    "else:\n",
    "    print(f\"Failed to download the file. Status code: {response.status_code}\")\n",
    "\n",
    "# Load the CSV file into a DataFrame\n",
    "df = pd.read_csv(destination_file)\n",
    "\n",
    "# Now you can work with the 'df' DataFrame\n",
    "# For example, you can print the first few rows of the DataFrame\n",
    "print(df.head())"
   ]
  }
 ],
 "metadata": {
  "kernelspec": {
   "display_name": "Python 3",
   "language": "python",
   "name": "python3"
  },
  "language_info": {
   "codemirror_mode": {
    "name": "ipython",
    "version": 3
   },
   "file_extension": ".py",
   "mimetype": "text/x-python",
   "name": "python",
   "nbconvert_exporter": "python",
   "pygments_lexer": "ipython3",
   "version": "3.11.5"
  },
  "orig_nbformat": 4
 },
 "nbformat": 4,
 "nbformat_minor": 2
}
